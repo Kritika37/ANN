{
 "cells": [
  {
   "cell_type": "code",
   "execution_count": 1,
   "metadata": {},
   "outputs": [
    {
     "name": "stderr",
     "output_type": "stream",
     "text": [
      "Using TensorFlow backend.\n"
     ]
    }
   ],
   "source": [
    "from keras.models import Sequential\n",
    "from keras.layers import Dense\n",
    "from keras.layers import Convolution2D\n",
    "from keras.layers import MaxPooling2D\n",
    "from keras.layers import Flatten"
   ]
  },
  {
   "cell_type": "code",
   "execution_count": 2,
   "metadata": {},
   "outputs": [],
   "source": [
    "model = Sequential()"
   ]
  },
  {
   "cell_type": "code",
   "execution_count": 3,
   "metadata": {},
   "outputs": [],
   "source": [
    "model.add(Convolution2D(32,(3,3),input_shape = (64,64,3),activation = 'relu')) # 32: num of feature detector, 3,3: size of feature detector, 64*64: image should be rehape , 3:rgb color img contains 3colors"
   ]
  },
  {
   "cell_type": "code",
   "execution_count": 4,
   "metadata": {},
   "outputs": [],
   "source": [
    "model.add(MaxPooling2D(pool_size = (2,2)))"
   ]
  },
  {
   "cell_type": "code",
   "execution_count": 5,
   "metadata": {},
   "outputs": [],
   "source": [
    "model.add(Flatten())"
   ]
  },
  {
   "cell_type": "code",
   "execution_count": 6,
   "metadata": {},
   "outputs": [
    {
     "name": "stderr",
     "output_type": "stream",
     "text": [
      "/home/kritika/anaconda3/lib/python3.7/site-packages/ipykernel_launcher.py:1: UserWarning: Update your `Dense` call to the Keras 2 API: `Dense(activation=\"relu\", units=128, kernel_initializer=\"uniform\")`\n",
      "  \"\"\"Entry point for launching an IPython kernel.\n"
     ]
    }
   ],
   "source": [
    "model.add(Dense(output_dim = 128,init = \"uniform\",activation='relu')) #128: randomly taken , instead of units u can taje output_dim"
   ]
  },
  {
   "cell_type": "code",
   "execution_count": 7,
   "metadata": {},
   "outputs": [
    {
     "name": "stderr",
     "output_type": "stream",
     "text": [
      "/home/kritika/anaconda3/lib/python3.7/site-packages/ipykernel_launcher.py:1: UserWarning: Update your `Dense` call to the Keras 2 API: `Dense(activation=\"sigmoid\", units=1, kernel_initializer=\"uniform\")`\n",
      "  \"\"\"Entry point for launching an IPython kernel.\n"
     ]
    }
   ],
   "source": [
    "model.add(Dense(output_dim = 1,init = \"uniform\",activation='sigmoid'))"
   ]
  },
  {
   "cell_type": "code",
   "execution_count": 8,
   "metadata": {},
   "outputs": [],
   "source": [
    "from keras.preprocessing.image import ImageDataGenerator #gives augmenation to dataset : put extra facilities like zoom , etc  if image cant be detected\n",
    "train_datagen = ImageDataGenerator(rescale = 1./255,shear_range = 0.2,zoom_range = 0.2 ,horizontal_flip= True) #rescale:normalization(gives highest priority to features that needed)\n",
    "test_datagen = ImageDataGenerator(rescale = 1./255) #rescale:normalization"
   ]
  },
  {
   "cell_type": "code",
   "execution_count": 9,
   "metadata": {},
   "outputs": [
    {
     "name": "stdout",
     "output_type": "stream",
     "text": [
      "Found 24 images belonging to 3 classes.\n",
      "Found 9 images belonging to 3 classes.\n"
     ]
    }
   ],
   "source": [
    "x_train = train_datagen.flow_from_directory('//home/kritika/Desktop/Artifical Network/Dataset/trainset',target_size = (64,64),batch_size = 5,class_mode = 'binary') #binary : 2 classes:cat/dog\n",
    "x_test = test_datagen.flow_from_directory('//home/kritika/Desktop/Artifical Network/Dataset/testset',target_size = (64,64),batch_size =5 ,class_mode = 'binary')"
   ]
  },
  {
   "cell_type": "code",
   "execution_count": 10,
   "metadata": {},
   "outputs": [
    {
     "name": "stdout",
     "output_type": "stream",
     "text": [
      "{'cat': 0, 'dog': 1, 'horse': 2}\n"
     ]
    }
   ],
   "source": [
    "print(x_train.class_indices)"
   ]
  },
  {
   "cell_type": "code",
   "execution_count": 11,
   "metadata": {},
   "outputs": [],
   "source": [
    "model.compile(loss = 'binary_crossentropy',optimizer= \"adam\",metrics = ['accuracy'])"
   ]
  },
  {
   "cell_type": "code",
   "execution_count": 12,
   "metadata": {},
   "outputs": [
    {
     "name": "stdout",
     "output_type": "stream",
     "text": [
      "Epoch 1/10\n",
      "5/5 [==============================] - 21s 4s/step - loss: 0.0287 - accuracy: 0.4167 - val_loss: 0.6668 - val_accuracy: 0.3333\n",
      "Epoch 2/10\n",
      "5/5 [==============================] - 7s 1s/step - loss: 0.6429 - accuracy: 0.3750 - val_loss: -1.9879 - val_accuracy: 0.3333\n",
      "Epoch 3/10\n",
      "5/5 [==============================] - 7s 1s/step - loss: -0.4886 - accuracy: 0.3750 - val_loss: -1.8338 - val_accuracy: 0.3333\n",
      "Epoch 4/10\n",
      "5/5 [==============================] - 7s 1s/step - loss: -1.0713 - accuracy: 0.3750 - val_loss: -4.2180 - val_accuracy: 0.3333\n",
      "Epoch 5/10\n",
      "5/5 [==============================] - 7s 1s/step - loss: -1.6651 - accuracy: 0.3750 - val_loss: -3.9144 - val_accuracy: 0.3333\n",
      "Epoch 6/10\n",
      "5/5 [==============================] - 7s 1s/step - loss: -1.8263 - accuracy: 0.3750 - val_loss: 1.0623 - val_accuracy: 0.3333\n",
      "Epoch 7/10\n",
      "5/5 [==============================] - 7s 1s/step - loss: -2.4608 - accuracy: 0.3750 - val_loss: -6.4151 - val_accuracy: 0.3333\n",
      "Epoch 8/10\n",
      "5/5 [==============================] - 7s 1s/step - loss: -4.4136 - accuracy: 0.3750 - val_loss: -2.7297 - val_accuracy: 0.3333\n",
      "Epoch 9/10\n",
      "5/5 [==============================] - 8s 2s/step - loss: -4.5927 - accuracy: 0.3750 - val_loss: -12.0456 - val_accuracy: 0.4444\n",
      "Epoch 10/10\n",
      "5/5 [==============================] - 7s 1s/step - loss: -6.6196 - accuracy: 0.4167 - val_loss: -5.4452 - val_accuracy: 0.3333\n"
     ]
    },
    {
     "data": {
      "text/plain": [
       "<keras.callbacks.callbacks.History at 0x7f31846bfbd0>"
      ]
     },
     "execution_count": 12,
     "metadata": {},
     "output_type": "execute_result"
    }
   ],
   "source": [
    "model.fit_generator(x_train,epochs = 10,validation_data = x_test,validation_steps = 40)#totla 8000 images and batch_size is 32 so 8000/32 = 250 so step_for_epoch = 250 ,total 2000 image and batch_size = 32 so 2000/32 = validation_steps = 63"
   ]
  },
  {
   "cell_type": "code",
   "execution_count": 13,
   "metadata": {},
   "outputs": [],
   "source": [
    "#save the model\n",
    "model.save(\"cnn.h5\")"
   ]
  },
  {
   "cell_type": "code",
   "execution_count": 27,
   "metadata": {},
   "outputs": [],
   "source": [
    "from keras.models import load_model\n",
    "from keras.preprocessing import image"
   ]
  },
  {
   "cell_type": "code",
   "execution_count": 28,
   "metadata": {},
   "outputs": [],
   "source": [
    "model = load_model(\"cnn.h5\")"
   ]
  },
  {
   "cell_type": "code",
   "execution_count": 29,
   "metadata": {},
   "outputs": [],
   "source": [
    "img = image.load_img(\"//home/kritika/Desktop/Artifical Network/cat.jpg\")"
   ]
  },
  {
   "cell_type": "code",
   "execution_count": 32,
   "metadata": {},
   "outputs": [],
   "source": [
    "import numpy as np\n",
    "x = image.img_to_array(img)\n",
    "x = np.expand_dims(x,axis = 0)"
   ]
  },
  {
   "cell_type": "code",
   "execution_count": null,
   "metadata": {},
   "outputs": [],
   "source": [
    "pred = model.predict_classes(x)\n",
    "pred"
   ]
  }
 ],
 "metadata": {
  "kernelspec": {
   "display_name": "Python 3",
   "language": "python",
   "name": "python3"
  },
  "language_info": {
   "codemirror_mode": {
    "name": "ipython",
    "version": 3
   },
   "file_extension": ".py",
   "mimetype": "text/x-python",
   "name": "python",
   "nbconvert_exporter": "python",
   "pygments_lexer": "ipython3",
   "version": "3.7.6"
  }
 },
 "nbformat": 4,
 "nbformat_minor": 4
}
